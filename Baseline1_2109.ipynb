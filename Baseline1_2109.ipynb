{
 "cells": [
  {
   "cell_type": "markdown",
   "metadata": {},
   "source": [
    "# Quora Insincere Question Classifier\n",
    "-------------------------------------\n",
    "The objective is find and separate \"sincere\" questions from \"insincere\" questions. The source of all the data is from the Kaggle InClass contest hosted for the 2020 class of AI511.\n",
    "\n",
    "Members of this team:\n",
    "1. Veerendra S Devaraddi\n",
    "2. Sai Manish Sasanapuri\n",
    "3. Shubhayu Das\n",
    "\n",
    "\n",
    "The folder structure should be:\n",
    "```bash\n",
    "ls -R\n",
    ".:\n",
    "Baseline1_2109.ipynb  dataset  status.md  submissions\n",
    "\n",
    "./dataset:\n",
    "sample_submission.csv  test.csv  train.csv\n",
    "\n",
    "./submissions:\n",
    "submission1_2109.csv\n",
    "\n",
    "```"
   ]
  },
  {
   "cell_type": "code",
   "execution_count": 1,
   "metadata": {
    "ExecuteTime": {
     "end_time": "2020-09-21T17:41:15.213182Z",
     "start_time": "2020-09-21T17:41:14.011070Z"
    }
   },
   "outputs": [],
   "source": [
    "import pandas as pd\n",
    "\n",
    "from sklearn.model_selection import train_test_split\n",
    "from sklearn.feature_extraction.text import TfidfVectorizer"
   ]
  },
  {
   "cell_type": "markdown",
   "metadata": {},
   "source": [
    "## Load in the dataset and do a shallow analysis\n",
    "\n",
    "The purpose of this notebook is to set a baseline only. So I am not bothering with an elaborate EDA here. All I will do is balance out the output classes, so that the model doesn't get biased towards false negatives."
   ]
  },
  {
   "cell_type": "code",
   "execution_count": 2,
   "metadata": {
    "ExecuteTime": {
     "end_time": "2020-09-21T17:41:17.581976Z",
     "start_time": "2020-09-21T17:41:15.215146Z"
    },
    "tags": []
   },
   "outputs": [
    {
     "name": "stdout",
     "output_type": "stream",
     "text": [
      "<class 'pandas.core.frame.DataFrame'>\n",
      "Int64Index: 783673 entries, 0 to 783672\n",
      "Data columns (total 3 columns):\n",
      " #   Column         Non-Null Count   Dtype \n",
      "---  ------         --------------   ----- \n",
      " 0   qid            783673 non-null  object\n",
      " 1   question_text  783673 non-null  object\n",
      " 2   target         783673 non-null  int64 \n",
      "dtypes: int64(1), object(2)\n",
      "memory usage: 23.9+ MB\n"
     ]
    }
   ],
   "source": [
    "# Load the training dataset\n",
    "dataset = pd.read_csv('dataset/train.csv')\n",
    "\n",
    "# Drop any missing data. There isn't actually in this dataset\n",
    "dataset.dropna(inplace=True)\n",
    "\n",
    "# Show the generic information about the dataset\n",
    "dataset.info()"
   ]
  },
  {
   "cell_type": "markdown",
   "metadata": {},
   "source": [
    "Take a look at the output classes and their counts in the dataset"
   ]
  },
  {
   "cell_type": "code",
   "execution_count": 3,
   "metadata": {
    "ExecuteTime": {
     "end_time": "2020-09-21T17:41:17.601284Z",
     "start_time": "2020-09-21T17:41:17.584265Z"
    }
   },
   "outputs": [
    {
     "data": {
      "text/plain": [
       "0    735222\n",
       "1     48451\n",
       "Name: target, dtype: int64"
      ]
     },
     "execution_count": 3,
     "metadata": {},
     "output_type": "execute_result"
    }
   ],
   "source": [
    "dataset['target'].value_counts()"
   ]
  },
  {
   "cell_type": "markdown",
   "metadata": {},
   "source": [
    "Ok, so only 6.9% of the inputs are classified as \"insincere\"(negative entries). So I will take an equal number of \"sincere\" entries(positive entries) for training and test evaluation"
   ]
  },
  {
   "cell_type": "code",
   "execution_count": 4,
   "metadata": {
    "ExecuteTime": {
     "end_time": "2020-09-21T17:41:18.618216Z",
     "start_time": "2020-09-21T17:41:17.603359Z"
    }
   },
   "outputs": [
    {
     "data": {
      "text/plain": [
       "1    48451\n",
       "0    48451\n",
       "Name: target, dtype: int64"
      ]
     },
     "execution_count": 4,
     "metadata": {},
     "output_type": "execute_result"
    }
   ],
   "source": [
    "# Get all the positive entries\n",
    "negatives = dataset[dataset['target'] == 1]\n",
    "\n",
    "# Randomly sample 48451 samples from the negative entries\n",
    "positives = dataset[dataset['target'] == 0].sample(len(negatives))\n",
    "\n",
    "# Put these two together. No the ordering doesn't matter as I am going to shuffle them during train-test split\n",
    "dataset = pd.concat([negatives, positives])\n",
    "\n",
    "# Remove the temporary Dataframes\n",
    "del negatives, positives\n",
    "\n",
    "# Verify the class balance of the adjusted dataset\n",
    "dataset['target'].value_counts()"
   ]
  },
  {
   "cell_type": "markdown",
   "metadata": {},
   "source": [
    "Splitting into training and test data, for local analysis"
   ]
  },
  {
   "cell_type": "code",
   "execution_count": 5,
   "metadata": {
    "ExecuteTime": {
     "end_time": "2020-09-21T17:41:19.057018Z",
     "start_time": "2020-09-21T17:41:18.620450Z"
    }
   },
   "outputs": [
    {
     "data": {
      "text/plain": [
       "((77521,), (19381,), (77521,), (19381,))"
      ]
     },
     "execution_count": 5,
     "metadata": {},
     "output_type": "execute_result"
    }
   ],
   "source": [
    "# For test dataset, will need to preserve the ids\n",
    "# Further this train-test split is not needed for the final submission\n",
    "\n",
    "# The qid doesn't matter in the training, don't consider it\n",
    "X = dataset[['question_text']]\n",
    "y = dataset[['target']]\n",
    "\n",
    "# Shuffle the data, do a 80-20 split\n",
    "train_x, test_x, train_y, test_y = train_test_split(X, y, test_size=0.2, shuffle=True, random_state=6)\n",
    "\n",
    "# Convert all the dataframes into 1D ndarrays\n",
    "train_x = train_x.values.reshape(-1)\n",
    "test_x = test_x.values.reshape(-1)\n",
    "train_y = train_y.values.reshape(-1)\n",
    "test_y = test_y.values.reshape(-1)\n",
    "\n",
    "train_x.shape, test_x.shape, train_y.shape, test_y.shape"
   ]
  },
  {
   "cell_type": "markdown",
   "metadata": {},
   "source": [
    "Take a look at a few questions from the training data"
   ]
  },
  {
   "cell_type": "code",
   "execution_count": 6,
   "metadata": {
    "ExecuteTime": {
     "end_time": "2020-09-21T17:41:19.103374Z",
     "start_time": "2020-09-21T17:41:19.059352Z"
    },
    "tags": []
   },
   "outputs": [
    {
     "name": "stdout",
     "output_type": "stream",
     "text": [
      "Is it possible to suck at life?\n",
      "How do I make a catchy business plan?\n",
      "Why do somany Brown people, South Asians, Indians, Muslims, etc identify with Liberal politics in the West but still are deeply racist to some groups like Blacks, Latinos, other Asians, etc?\n",
      "Why did US President Woodrow Wilson personally intercede when the British had arrested the notorious communist Trotsky? What's the secret behind this?\n",
      "How long does it take to recover from a chemical lobotomy?\n"
     ]
    }
   ],
   "source": [
    "for question in train_x[:5]:\n",
    "    print(question)"
   ]
  },
  {
   "cell_type": "markdown",
   "metadata": {},
   "source": [
    "## Start working on the data for training\n",
    "-----------------------------------------\n",
    "\n",
    "Nothing fancy here, I am going to use a *simple* TFIDF vector for this. What I will get is a super sparse matrix.\n",
    "\n",
    "This will be used by a Naive Bayes classifier, for classification. I didn't even bother trying out other classifiers"
   ]
  },
  {
   "cell_type": "code",
   "execution_count": 7,
   "metadata": {
    "ExecuteTime": {
     "end_time": "2020-09-21T17:41:20.982146Z",
     "start_time": "2020-09-21T17:41:19.105128Z"
    }
   },
   "outputs": [
    {
     "data": {
      "text/plain": [
       "(77521, 43597)"
      ]
     },
     "execution_count": 7,
     "metadata": {},
     "output_type": "execute_result"
    }
   ],
   "source": [
    "vectorizer = TfidfVectorizer()\n",
    "train_x_tfidf = vectorizer.fit_transform(train_x)\n",
    "\n",
    "train_x_tfidf.shape"
   ]
  },
  {
   "cell_type": "markdown",
   "metadata": {},
   "source": [
    "All right, looks like we have 43000+ unique tokens(need not just be words. This needs to be a part of the preprocessing/NLP encoder).\n",
    "\n",
    "Now I will import and use a multinomial naive-Bayes model for classification"
   ]
  },
  {
   "cell_type": "code",
   "execution_count": 8,
   "metadata": {
    "ExecuteTime": {
     "end_time": "2020-09-21T17:41:20.989370Z",
     "start_time": "2020-09-21T17:41:20.984991Z"
    }
   },
   "outputs": [],
   "source": [
    "from sklearn.naive_bayes import MultinomialNB"
   ]
  },
  {
   "cell_type": "code",
   "execution_count": 9,
   "metadata": {
    "ExecuteTime": {
     "end_time": "2020-09-21T17:41:21.212519Z",
     "start_time": "2020-09-21T17:41:20.991649Z"
    }
   },
   "outputs": [
    {
     "data": {
      "text/plain": [
       "array([38728., 38793.])"
      ]
     },
     "execution_count": 9,
     "metadata": {},
     "output_type": "execute_result"
    }
   ],
   "source": [
    "model = MultinomialNB()\n",
    "model.fit(train_x_tfidf, train_y)\n",
    "model.class_count_"
   ]
  },
  {
   "cell_type": "markdown",
   "metadata": {},
   "source": [
    "Perfectly balanced, as all things should be\n",
    "-------------------------------------------\n",
    "\n",
    "Ok, now lets evaluated the model on the test split of the data. For our actual submissions, it will be better if we don't have a test split and use **all** the data for training the model. That will make the model better"
   ]
  },
  {
   "cell_type": "code",
   "execution_count": 10,
   "metadata": {
    "ExecuteTime": {
     "end_time": "2020-09-21T17:41:23.118814Z",
     "start_time": "2020-09-21T17:41:21.214417Z"
    }
   },
   "outputs": [
    {
     "data": {
      "text/html": [
       "<div>\n",
       "<style scoped>\n",
       "    .dataframe tbody tr th:only-of-type {\n",
       "        vertical-align: middle;\n",
       "    }\n",
       "\n",
       "    .dataframe tbody tr th {\n",
       "        vertical-align: top;\n",
       "    }\n",
       "\n",
       "    .dataframe thead th {\n",
       "        text-align: right;\n",
       "    }\n",
       "</style>\n",
       "<table border=\"1\" class=\"dataframe\">\n",
       "  <thead>\n",
       "    <tr style=\"text-align: right;\">\n",
       "      <th></th>\n",
       "      <th>0</th>\n",
       "      <th>1</th>\n",
       "    </tr>\n",
       "  </thead>\n",
       "  <tbody>\n",
       "    <tr>\n",
       "      <th>0</th>\n",
       "      <td>0</td>\n",
       "      <td>0</td>\n",
       "    </tr>\n",
       "    <tr>\n",
       "      <th>1</th>\n",
       "      <td>1</td>\n",
       "      <td>1</td>\n",
       "    </tr>\n",
       "    <tr>\n",
       "      <th>2</th>\n",
       "      <td>1</td>\n",
       "      <td>1</td>\n",
       "    </tr>\n",
       "    <tr>\n",
       "      <th>3</th>\n",
       "      <td>1</td>\n",
       "      <td>0</td>\n",
       "    </tr>\n",
       "    <tr>\n",
       "      <th>4</th>\n",
       "      <td>0</td>\n",
       "      <td>0</td>\n",
       "    </tr>\n",
       "  </tbody>\n",
       "</table>\n",
       "</div>"
      ],
      "text/plain": [
       "   0  1\n",
       "0  0  0\n",
       "1  1  1\n",
       "2  1  1\n",
       "3  1  0\n",
       "4  0  0"
      ]
     },
     "execution_count": 10,
     "metadata": {},
     "output_type": "execute_result"
    }
   ],
   "source": [
    "# Convert the test data into TFIDF matrix\n",
    "test_x_tfidf = vectorizer.transform(test_x)\n",
    "\n",
    "# Get the predictions\n",
    "predictions = model.predict(test_x_tfidf)\n",
    "\n",
    "# Just compare some of the predictions against the original class labels\n",
    "pd.DataFrame([predictions, test_y]).transpose().head()"
   ]
  },
  {
   "cell_type": "markdown",
   "metadata": {},
   "source": [
    "### Scoring time\n",
    "-----------------\n",
    "\n",
    "Ok, so far, I made a model, trained it and then got the predictions on the test split. \n",
    "\n",
    "Now I need to get a numeric score, which will tell me how good the model is. The competition use **F1 score** as a metric for evaluation. Let me check that for my naive model"
   ]
  },
  {
   "cell_type": "code",
   "execution_count": 11,
   "metadata": {
    "ExecuteTime": {
     "end_time": "2020-09-21T17:41:23.123705Z",
     "start_time": "2020-09-21T17:41:23.120668Z"
    }
   },
   "outputs": [],
   "source": [
    "from sklearn.metrics import f1_score, plot_confusion_matrix"
   ]
  },
  {
   "cell_type": "code",
   "execution_count": 12,
   "metadata": {
    "ExecuteTime": {
     "end_time": "2020-09-21T17:41:23.243716Z",
     "start_time": "2020-09-21T17:41:23.125951Z"
    }
   },
   "outputs": [
    {
     "data": {
      "text/plain": [
       "0.8598293071025603"
      ]
     },
     "execution_count": 12,
     "metadata": {},
     "output_type": "execute_result"
    }
   ],
   "source": [
    "f1_score(predictions, test_y)"
   ]
  },
  {
   "cell_type": "code",
   "execution_count": 13,
   "metadata": {
    "ExecuteTime": {
     "end_time": "2020-09-21T17:41:23.944832Z",
     "start_time": "2020-09-21T17:41:23.248761Z"
    }
   },
   "outputs": [
    {
     "data": {
      "text/plain": [
       "<sklearn.metrics._plot.confusion_matrix.ConfusionMatrixDisplay at 0x7f21c3c3f3d0>"
      ]
     },
     "execution_count": 13,
     "metadata": {},
     "output_type": "execute_result"
    },
    {
     "data": {
      "image/png": "[encoded data removed]",
      "text/plain": [
       "<Figure size 432x288 with 2 Axes>"
      ]
     },
     "metadata": {
      "needs_background": "light"
     },
     "output_type": "display_data"
    }
   ],
   "source": [
    "plot_confusion_matrix(model, test_x_tfidf, test_y, display_labels=['sincere', 'insincere'])"
   ]
  },
  {
   "cell_type": "markdown",
   "metadata": {},
   "source": [
    "*F1_score = 0.86*\n",
    "\n",
    "#### Not bad, in comparison to the original contest Leaderboard on Kaggle. Of course, that was on a larger dataset. However, the ration of the class labels was the same(before I actually took a subset). However, the model seems to be overfit in some way, because it doesn't do well on the actual test data.\n",
    "-----------------------------------------------------\n",
    "\n",
    "Now let me load the original test data and get the predictions. These predictions have to be submitted to the Kaggle contest."
   ]
  },
  {
   "cell_type": "markdown",
   "metadata": {},
   "source": [
    "Before that, let me use the entire training data and create another model. I will use this one for predictions and hope that I get a much higher accuracy on Kaggle"
   ]
  },
  {
   "cell_type": "code",
   "execution_count": 14,
   "metadata": {
    "ExecuteTime": {
     "end_time": "2020-09-21T17:41:26.436694Z",
     "start_time": "2020-09-21T17:41:23.946695Z"
    }
   },
   "outputs": [
    {
     "data": {
      "text/plain": [
       "array([48451., 48451.])"
      ]
     },
     "execution_count": 14,
     "metadata": {},
     "output_type": "execute_result"
    }
   ],
   "source": [
    "X = X.values.reshape(-1)\n",
    "y = y.values.reshape(-1)\n",
    "\n",
    "subm_vectorizer = TfidfVectorizer()\n",
    "subm_X = subm_vectorizer.fit_transform(X)\n",
    "\n",
    "subm_model = MultinomialNB()\n",
    "subm_model.fit(subm_X, y)\n",
    "\n",
    "del X, y\n",
    "\n",
    "subm_model.class_count_"
   ]
  },
  {
   "cell_type": "code",
   "execution_count": 15,
   "metadata": {
    "ExecuteTime": {
     "end_time": "2020-09-21T17:41:27.808947Z",
     "start_time": "2020-09-21T17:41:26.438775Z"
    },
    "tags": []
   },
   "outputs": [
    {
     "name": "stdout",
     "output_type": "stream",
     "text": [
      "<class 'pandas.core.frame.DataFrame'>\n",
      "RangeIndex: 522449 entries, 0 to 522448\n",
      "Data columns (total 2 columns):\n",
      " #   Column         Non-Null Count   Dtype \n",
      "---  ------         --------------   ----- \n",
      " 0   qid            522449 non-null  object\n",
      " 1   question_text  522449 non-null  object\n",
      "dtypes: object(2)\n",
      "memory usage: 8.0+ MB\n"
     ]
    }
   ],
   "source": [
    "test_data = pd.read_csv('dataset/test.csv')\n",
    "test_data.info()"
   ]
  },
  {
   "cell_type": "code",
   "execution_count": 16,
   "metadata": {
    "ExecuteTime": {
     "end_time": "2020-09-21T17:41:27.841830Z",
     "start_time": "2020-09-21T17:41:27.813341Z"
    }
   },
   "outputs": [],
   "source": [
    "# Here I need the qid for submission. So I will separate it and convert to a 1D ndarray\n",
    "test_ids = test_data[['qid']].values.reshape(-1)\n",
    "\n",
    "# Get the questions, on which I will run the prediction\n",
    "questions = test_data[['question_text']].values.reshape(-1)"
   ]
  },
  {
   "cell_type": "code",
   "execution_count": 17,
   "metadata": {
    "ExecuteTime": {
     "end_time": "2020-09-21T17:41:38.728058Z",
     "start_time": "2020-09-21T17:41:27.845674Z"
    }
   },
   "outputs": [],
   "source": [
    "# Get the TFIDF vector/matrix\n",
    "text_questions = subm_vectorizer.transform(questions)\n",
    "\n",
    "# Get the predictions from the model\n",
    "test_predictions = subm_model.predict(text_questions)"
   ]
  },
  {
   "cell_type": "code",
   "execution_count": 18,
   "metadata": {
    "ExecuteTime": {
     "end_time": "2020-09-21T17:42:34.700376Z",
     "start_time": "2020-09-21T17:41:38.730767Z"
    }
   },
   "outputs": [
    {
     "data": {
      "text/html": [
       "<div>\n",
       "<style scoped>\n",
       "    .dataframe tbody tr th:only-of-type {\n",
       "        vertical-align: middle;\n",
       "    }\n",
       "\n",
       "    .dataframe tbody tr th {\n",
       "        vertical-align: top;\n",
       "    }\n",
       "\n",
       "    .dataframe thead th {\n",
       "        text-align: right;\n",
       "    }\n",
       "</style>\n",
       "<table border=\"1\" class=\"dataframe\">\n",
       "  <thead>\n",
       "    <tr style=\"text-align: right;\">\n",
       "      <th></th>\n",
       "      <th>qid</th>\n",
       "      <th>target</th>\n",
       "    </tr>\n",
       "  </thead>\n",
       "  <tbody>\n",
       "    <tr>\n",
       "      <th>0</th>\n",
       "      <td>f56a9a31974dc66186e8</td>\n",
       "      <td>0</td>\n",
       "    </tr>\n",
       "    <tr>\n",
       "      <th>1</th>\n",
       "      <td>d957c3758060f45da303</td>\n",
       "      <td>0</td>\n",
       "    </tr>\n",
       "    <tr>\n",
       "      <th>2</th>\n",
       "      <td>ad822d5abaedb9e247b9</td>\n",
       "      <td>0</td>\n",
       "    </tr>\n",
       "    <tr>\n",
       "      <th>3</th>\n",
       "      <td>4e979c23eeb6a4bd1f2e</td>\n",
       "      <td>0</td>\n",
       "    </tr>\n",
       "    <tr>\n",
       "      <th>4</th>\n",
       "      <td>333cc031262566b8da49</td>\n",
       "      <td>0</td>\n",
       "    </tr>\n",
       "  </tbody>\n",
       "</table>\n",
       "</div>"
      ],
      "text/plain": [
       "                    qid target\n",
       "0  f56a9a31974dc66186e8      0\n",
       "1  d957c3758060f45da303      0\n",
       "2  ad822d5abaedb9e247b9      0\n",
       "3  4e979c23eeb6a4bd1f2e      0\n",
       "4  333cc031262566b8da49      0"
      ]
     },
     "execution_count": 18,
     "metadata": {},
     "output_type": "execute_result"
    }
   ],
   "source": [
    "# Create the submission Dataframe. This will give the csv file that I will submit\n",
    "submission = pd.DataFrame([test_ids, test_predictions], ['qid', 'target']).transpose()\n",
    "\n",
    "# Verify the format of the Dataframe\n",
    "submission.head()"
   ]
  },
  {
   "cell_type": "code",
   "execution_count": 19,
   "metadata": {
    "ExecuteTime": {
     "end_time": "2020-09-21T17:42:34.843613Z",
     "start_time": "2020-09-21T17:42:34.703822Z"
    },
    "tags": []
   },
   "outputs": [
    {
     "name": "stdout",
     "output_type": "stream",
     "text": [
      "<class 'pandas.core.frame.DataFrame'>\n",
      "RangeIndex: 522449 entries, 0 to 522448\n",
      "Data columns (total 2 columns):\n",
      " #   Column  Non-Null Count   Dtype \n",
      "---  ------  --------------   ----- \n",
      " 0   qid     522449 non-null  object\n",
      " 1   target  522449 non-null  object\n",
      "dtypes: object(2)\n",
      "memory usage: 8.0+ MB\n"
     ]
    }
   ],
   "source": [
    "# Verify the total number of rows and the dataframe in general\n",
    "submission.info()"
   ]
  },
  {
   "cell_type": "code",
   "execution_count": 20,
   "metadata": {
    "ExecuteTime": {
     "end_time": "2020-09-21T17:42:35.103650Z",
     "start_time": "2020-09-21T17:42:34.845950Z"
    }
   },
   "outputs": [
    {
     "data": {
      "text/plain": [
       "0    387534\n",
       "1    134915\n",
       "Name: target, dtype: int64"
      ]
     },
     "execution_count": 20,
     "metadata": {},
     "output_type": "execute_result"
    }
   ],
   "source": [
    "submission['target'].value_counts()"
   ]
  },
  {
   "cell_type": "markdown",
   "metadata": {},
   "source": [
    "Now write the predictions to a csv file and submit it!"
   ]
  },
  {
   "cell_type": "code",
   "execution_count": 21,
   "metadata": {
    "ExecuteTime": {
     "end_time": "2020-09-21T17:42:36.649746Z",
     "start_time": "2020-09-21T17:42:35.106922Z"
    }
   },
   "outputs": [],
   "source": [
    "submission.to_csv('submissions/submission1_2109.csv', index=False)"
   ]
  },
  {
   "cell_type": "markdown",
   "metadata": {},
   "source": [
    "One thing to remember is that the public leaderboard on Kaggle tests against 40% of the total test data only.\n",
    "\n",
    "On this 40%:\n",
    "The initial model achieved a F1 score of 0.35426.\n",
    "The model trained model achieved a F1 score of 0.35796, a fractionally better performance.\n",
    "\n",
    "F1 score is computed on the basis of *precision* and *recall*. Look these terms up later. A higher F1 score(closer to 1) is better. So the naive TFIDF method is no good."
   ]
  }
 ],
 "metadata": {
  "kernelspec": {
   "display_name": "Python 3.7.6 64-bit ('base': conda)",
   "language": "python",
   "name": "python37664bitbaseconda0b65a395becb4b5490cdb508fa827a6f"
  },
  "language_info": {
   "codemirror_mode": {
    "name": "ipython",
    "version": 3
   },
   "file_extension": ".py",
   "mimetype": "text/x-python",
   "name": "python",
   "nbconvert_exporter": "python",
   "pygments_lexer": "ipython3",
   "version": "3.7.6"
  },
  "latex_envs": {
   "LaTeX_envs_menu_present": true,
   "autoclose": false,
   "autocomplete": true,
   "bibliofile": "biblio.bib",
   "cite_by": "apalike",
   "current_citInitial": 1,
   "eqLabelWithNumbers": true,
   "eqNumInitial": 1,
   "hotkeys": {
    "equation": "Ctrl-E",
    "itemize": "Ctrl-I"
   },
   "labels_anchors": false,
   "latex_user_defs": false,
   "report_style_numbering": false,
   "user_envs_cfg": false
  },
  "varInspector": {
   "cols": {
    "lenName": 16,
    "lenType": 16,
    "lenVar": 40
   },
   "kernels_config": {
    "python": {
     "delete_cmd_postfix": "",
     "delete_cmd_prefix": "del ",
     "library": "var_list.py",
     "varRefreshCmd": "print(var_dic_list())"
    },
    "r": {
     "delete_cmd_postfix": ") ",
     "delete_cmd_prefix": "rm(",
     "library": "var_list.r",
     "varRefreshCmd": "cat(var_dic_list()) "
    }
   },
   "types_to_exclude": [
    "module",
    "function",
    "builtin_function_or_method",
    "instance",
    "_Feature"
   ],
   "window_display": false
  }
 },
 "nbformat": 4,
 "nbformat_minor": 4
}
